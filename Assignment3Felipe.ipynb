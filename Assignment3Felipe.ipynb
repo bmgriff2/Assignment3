{
 "cells": [
  {
   "cell_type": "code",
   "execution_count": 2,
   "metadata": {
    "collapsed": true
   },
   "outputs": [],
   "source": [
    "import numpy as np\n",
    "from sklearn.decomposition import PCA\n",
    "import matplotlib.pyplot as plt\n",
    "from sklearn import manifold\n",
    "from sklearn.decomposition import PCA"
   ]
  },
  {
   "cell_type": "code",
   "execution_count": 4,
   "metadata": {
    "collapsed": true
   },
   "outputs": [],
   "source": [
    "def unpickle(file):\n",
    "    import pickle\n",
    "    with open(file, 'rb') as fo:\n",
    "        dict = pickle.load(fo, encoding='bytes')\n",
    "    return dict"
   ]
  },
  {
   "cell_type": "code",
   "execution_count": 5,
   "metadata": {
    "collapsed": true
   },
   "outputs": [],
   "source": [
    "data_batch=[]\n",
    "for i in range(1,6):\n",
    "    data_batch.append(unpickle('cifar-10-batches-py/data_batch_'+str(i)))\n",
    "data_batch.append(unpickle('cifar-10-batches-py/test_batch'))"
   ]
  },
  {
   "cell_type": "code",
   "execution_count": 7,
   "metadata": {},
   "outputs": [
    {
     "data": {
      "text/plain": [
       "[b'airplane',\n",
       " b'automobile',\n",
       " b'bird',\n",
       " b'cat',\n",
       " b'deer',\n",
       " b'dog',\n",
       " b'frog',\n",
       " b'horse',\n",
       " b'ship',\n",
       " b'truck']"
      ]
     },
     "execution_count": 7,
     "metadata": {},
     "output_type": "execute_result"
    }
   ],
   "source": [
    "label_names=unpickle('cifar-10-batches-py/batches.meta')[b'label_names']\n",
    "label_names"
   ]
  },
  {
   "cell_type": "code",
   "execution_count": 9,
   "metadata": {},
   "outputs": [
    {
     "data": {
      "text/plain": [
       "(60000, 3072)"
      ]
     },
     "execution_count": 9,
     "metadata": {},
     "output_type": "execute_result"
    }
   ],
   "source": [
    "data=[]\n",
    "for i in range(len(data_batch)):\n",
    "    data=np.append(data,data_batch[i][b'data'])\n",
    "data=np.reshape(data,(60000,3072))\n",
    "data.shape"
   ]
  },
  {
   "cell_type": "code",
   "execution_count": 11,
   "metadata": {},
   "outputs": [
    {
     "data": {
      "text/plain": [
       "60000"
      ]
     },
     "execution_count": 11,
     "metadata": {},
     "output_type": "execute_result"
    }
   ],
   "source": [
    "labels=np.array([],dtype=int)\n",
    "for i in range(len(data_batch)):\n",
    "    labels=np.append(labels,data_batch[i][b'labels'])\n",
    "labels=np.reshape(labels,60000)\n",
    "labels=np.array(labels,dtype=int)\n",
    "len(labels)"
   ]
  },
  {
   "cell_type": "code",
   "execution_count": 13,
   "metadata": {
    "collapsed": true
   },
   "outputs": [],
   "source": [
    "dataByCat=[[],[],[],[],[],[],[],[],[],[]] \n",
    "for ind,l in enumerate(labels):\n",
    "    dataByCat[l].append(data[ind])"
   ]
  },
  {
   "cell_type": "code",
   "execution_count": 14,
   "metadata": {
    "collapsed": true
   },
   "outputs": [],
   "source": [
    "def printImage(data):\n",
    "    r=data[:1024]\n",
    "    g=data[1024:2048]\n",
    "    b=data[2048:]\n",
    "    new_r=np.reshape(r,(32,32))\n",
    "    new_g=np.reshape(g,(32,32))\n",
    "    new_b=np.reshape(b,(32,32))\n",
    "    im=np.dstack((new_r,new_g,new_b))\n",
    "    im /= 255\n",
    "    plt.imshow(im)\n",
    "    plt.show()"
   ]
  },
  {
   "cell_type": "code",
   "execution_count": 30,
   "metadata": {},
   "outputs": [
    {
     "data": {
      "image/png": "[encoded data removed]",
      "text/plain": [
       "<matplotlib.figure.Figure at 0x10a08e160>"
      ]
     },
     "metadata": {},
     "output_type": "display_data"
    },
    {
     "data": {
      "text/plain": [
       "array([ 145.46483333,  144.43483333,  145.118     , ...,  138.5875    ,\n",
       "        138.34583333,  138.8415    ])"
      ]
     },
     "execution_count": 30,
     "metadata": {},
     "output_type": "execute_result"
    }
   ],
   "source": [
    "mean_images=[]\n",
    "\n",
    "for cat in range(len(dataByCat)):\n",
    "    mean_images.append(np.mean(dataByCat[cat], axis = 0))\n",
    "    \n",
    "printImage(mean_images[0])\n",
    "mean_images[0]\n"
   ]
  },
  {
   "cell_type": "code",
   "execution_count": 48,
   "metadata": {
    "collapsed": true
   },
   "outputs": [],
   "source": [
    "def get_error_from_pca(mean, components, data):\n",
    "    pca = PCA(n_components=20)\n",
    "    #pca.fit(data)\n",
    "    pca.mean_ = mean\n",
    "    pca.components_ = components\n",
    "    pca_20 = pca.transform(data)\n",
    "    im_first_20 = pca.inverse_transform(pca_20)\n",
    "    difference = im_first_20 - data\n",
    "    difference *= difference\n",
    "    error = sum(sum(difference)) / len(data)\n",
    "    return error\n",
    "    "
   ]
  },
  {
   "cell_type": "code",
   "execution_count": 35,
   "metadata": {},
   "outputs": [],
   "source": [
    "class_info = []\n",
    "errors = []\n",
    "for cat in range(len(dataByCat)):\n",
    "    pca=PCA(n_components=20)\n",
    "    pca.fit(dataByCat[cat])\n",
    "    class_info.append((pca.mean_, pca.components_, dataByCat[cat]))\n",
    "    pca_20 = pca.transform(dataByCat[cat])\n",
    "    im_first_20 = pca.inverse_transform(pca_20)\n",
    "    difference = im_first_20 - dataByCat[cat]\n",
    "    difference *= difference\n",
    "    error = sum(sum(difference)) / len(dataByCat[cat])\n",
    "    errors.append(error)"
   ]
  },
  {
   "cell_type": "code",
   "execution_count": 39,
   "metadata": {
    "collapsed": true
   },
   "outputs": [],
   "source": [
    "def create_error_distance_matrix(class_info):\n",
    "    dis_matrix = np.zeros((len(class_info), len(class_info)))\n",
    "    for class_num_A, (mean_A, comp_A, data_A) in enumerate(class_info):\n",
    "        for class_num_B, (mean_B, comp_B, data_B) in enumerate(class_info):\n",
    "            error_A_approx_B = get_error_from_pca(mean_A, comp_B, data_A)\n",
    "            error_B_approx_A = get_error_from_pca(mean_B, comp_A, data_B)\n",
    "            dis_matrix[class_num_A][class_num_B] = (error_B_approx_A + error_A_approx_B)*0.5\n",
    "    return dis_matrix"
   ]
  },
  {
   "cell_type": "code",
   "execution_count": 23,
   "metadata": {
    "collapsed": true
   },
   "outputs": [],
   "source": [
    "def create_euclidean_distance_matrix(mean_images):\n",
    "    dis_matrix = np.zeros((len(mean_images), len(mean_images)))\n",
    "    for label_x, image_x in enumerate(mean_images):\n",
    "        for label_y, image_y in enumerate(mean_images):\n",
    "            temp_image = image_x - image_y\n",
    "            dis_matrix[label_x][label_y] = np.linalg.norm(temp_image, ord=2)\n",
    "    return dis_matrix\n",
    "        "
   ]
  },
  {
   "cell_type": "code",
   "execution_count": 49,
   "metadata": {
    "collapsed": true
   },
   "outputs": [],
   "source": [
    "similarities = create_euclidean_distance_matrix(mean_images)\n",
    "mds = manifold.MDS(n_components = 2, dissimilarity = \"precomputed\")\n",
    "pos = mds.fit_transform(similarities)"
   ]
  },
  {
   "cell_type": "code",
   "execution_count": 26,
   "metadata": {},
   "outputs": [
    {
     "data": {
      "image/png": "[encoded data removed]",
      "text/plain": [
       "<matplotlib.figure.Figure at 0x107fa3400>"
      ]
     },
     "metadata": {},
     "output_type": "display_data"
    }
   ],
   "source": [
    "plt.subplots_adjust(bottom = 0.1)\n",
    "plt.scatter(\n",
    "    pos[:, 0], pos[:, 1], marker='o')\n",
    "\n",
    "for label, x, y in zip(label_names, pos[:, 0], pos[:, 1]):\n",
    "    plt.annotate(\n",
    "        label,\n",
    "        xy=(x, y), xytext=(-20, 20),\n",
    "        textcoords='offset points', ha='right', va='bottom',\n",
    "        bbox=dict(boxstyle='round,pad=0.5', fc='yellow', alpha=0.5),\n",
    "        arrowprops=dict(arrowstyle = '->', connectionstyle='arc3,rad=0'))\n",
    "\n",
    "plt.show()similarities = create_euclidean_distance_matrix(mean_images)\n",
    "mds = manifold.MDS(n_components = 2, dissimilarity = \"precomputed\")\n",
    "pos = mds.fit_transform(similarities)"
   ]
  },
  {
   "cell_type": "code",
   "execution_count": 50,
   "metadata": {},
   "outputs": [],
   "source": [
    "dis_matrix = create_error_distance_matrix(class_info)\n",
    "mds = manifold.MDS(n_components = 2, dissimilarity = \"precomputed\")\n",
    "pos = mds.fit_transform(dis_matrix)"
   ]
  },
  {
   "cell_type": "code",
   "execution_count": 52,
   "metadata": {},
   "outputs": [
    {
     "data": {
      "text/plain": [
       "array([ 0.,  0.,  0.,  0.,  0.,  0.,  0.,  0.,  0.,  0.])"
      ]
     },
     "execution_count": 52,
     "metadata": {},
     "output_type": "execute_result"
    }
   ],
   "source": [
    "np.diag(dis_matrix) - errors"
   ]
  },
  {
   "cell_type": "code",
   "execution_count": 53,
   "metadata": {},
   "outputs": [
    {
     "data": {
      "image/png": "[encoded data removed]",
      "text/plain": [
       "<matplotlib.figure.Figure at 0x1a1a1826d8>"
      ]
     },
     "metadata": {},
     "output_type": "display_data"
    }
   ],
   "source": [
    "plt.subplots_adjust(bottom = 0.1)\n",
    "plt.scatter(\n",
    "    pos[:, 0], pos[:, 1], marker='o')\n",
    "\n",
    "for label, x, y in zip(label_names, pos[:, 0], pos[:, 1]):\n",
    "    plt.annotate(\n",
    "        label,\n",
    "        xy=(x, y), xytext=(-20, 20),\n",
    "        textcoords='offset points', ha='right', va='bottom',\n",
    "        bbox=dict(boxstyle='round,pad=0.5', fc='yellow', alpha=0.5),\n",
    "        arrowprops=dict(arrowstyle = '->', connectionstyle='arc3,rad=0'))\n",
    "\n",
    "plt.show()"
   ]
  }
 ],
 "metadata": {
  "kernelspec": {
   "display_name": "Python 3",
   "language": "python",
   "name": "python3"
  },
  "language_info": {
   "codemirror_mode": {
    "name": "ipython",
    "version": 3
   },
   "file_extension": ".py",
   "mimetype": "text/x-python",
   "name": "python",
   "nbconvert_exporter": "python",
   "pygments_lexer": "ipython3",
   "version": "3.6.3"
  }
 },
 "nbformat": 4,
 "nbformat_minor": 2
}
