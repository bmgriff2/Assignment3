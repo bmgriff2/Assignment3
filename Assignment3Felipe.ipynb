{
 "cells": [
  {
   "cell_type": "code",
   "execution_count": 1,
   "metadata": {
    "collapsed": true
   },
   "outputs": [],
   "source": [
    "import numpy as np\n",
    "from sklearn.decomposition import PCA\n",
    "import matplotlib.pyplot as plt\n",
    "from sklearn import manifold\n",
    "import math"
   ]
  },
  {
   "cell_type": "code",
   "execution_count": 2,
   "metadata": {
    "collapsed": true
   },
   "outputs": [],
   "source": [
    "def unpickle(file):\n",
    "    import pickle\n",
    "    with open(file, 'rb') as fo:\n",
    "        dict = pickle.load(fo, encoding='bytes')\n",
    "    return dict"
   ]
  },
  {
   "cell_type": "code",
   "execution_count": 3,
   "metadata": {
    "collapsed": true
   },
   "outputs": [],
   "source": [
    "data_batch=[]\n",
    "for i in range(1,6):\n",
    "    data_batch.append(unpickle('cifar-10-batches-py/data_batch_'+str(i)))\n",
    "data_batch.append(unpickle('cifar-10-batches-py/test_batch'))"
   ]
  },
  {
   "cell_type": "code",
   "execution_count": 4,
   "metadata": {},
   "outputs": [
    {
     "data": {
      "text/plain": [
       "['airplane',\n",
       " 'automobile',\n",
       " 'bird',\n",
       " 'cat',\n",
       " 'deer',\n",
       " 'dog',\n",
       " 'frog',\n",
       " 'horse',\n",
       " 'ship',\n",
       " 'truck']"
      ]
     },
     "execution_count": 4,
     "metadata": {},
     "output_type": "execute_result"
    }
   ],
   "source": [
    "label_names=unpickle('cifar-10-batches-py/batches.meta')[b'label_names']\n",
    "label_names=[str(l)[2:-1] for l in label_names]\n",
    "label_names"
   ]
  },
  {
   "cell_type": "code",
   "execution_count": 5,
   "metadata": {},
   "outputs": [
    {
     "data": {
      "text/plain": [
       "(60000, 3072)"
      ]
     },
     "execution_count": 5,
     "metadata": {},
     "output_type": "execute_result"
    }
   ],
   "source": [
    "data=[]\n",
    "for i in range(len(data_batch)):\n",
    "    data=np.append(data,data_batch[i][b'data'])\n",
    "data=np.reshape(data,(60000,3072))\n",
    "data.shape"
   ]
  },
  {
   "cell_type": "code",
   "execution_count": 6,
   "metadata": {},
   "outputs": [
    {
     "data": {
      "text/plain": [
       "60000"
      ]
     },
     "execution_count": 6,
     "metadata": {},
     "output_type": "execute_result"
    }
   ],
   "source": [
    "labels=np.array([],dtype=int)\n",
    "for i in range(len(data_batch)):\n",
    "    labels=np.append(labels,data_batch[i][b'labels'])\n",
    "labels=np.reshape(labels,60000)\n",
    "labels=np.array(labels,dtype=int)\n",
    "len(labels)"
   ]
  },
  {
   "cell_type": "code",
   "execution_count": 7,
   "metadata": {
    "collapsed": true
   },
   "outputs": [],
   "source": [
    "dataByCat=[[],[],[],[],[],[],[],[],[],[]] \n",
    "for ind,l in enumerate(labels):\n",
    "    dataByCat[l].append(data[ind])"
   ]
  },
  {
   "cell_type": "code",
   "execution_count": 8,
   "metadata": {
    "collapsed": true
   },
   "outputs": [],
   "source": [
    "def printImage(data):\n",
    "    r=data[:1024]\n",
    "    g=data[1024:2048]\n",
    "    b=data[2048:]\n",
    "    new_r=np.reshape(r,(32,32))\n",
    "    new_g=np.reshape(g,(32,32))\n",
    "    new_b=np.reshape(b,(32,32))\n",
    "    im=np.dstack((new_r,new_g,new_b))\n",
    "    im /= 255\n",
    "    plt.imshow(im)\n",
    "    plt.show()"
   ]
  },
  {
   "cell_type": "code",
   "execution_count": 9,
   "metadata": {},
   "outputs": [
    {
     "data": {
      "image/png": "[encoded data removed]",
      "text/plain": [
       "<matplotlib.figure.Figure at 0x1a0a91d7b8>"
      ]
     },
     "metadata": {},
     "output_type": "display_data"
    },
    {
     "data": {
      "text/plain": [
       "array([ 145.46483333,  144.43483333,  145.118     , ...,  138.5875    ,\n",
       "        138.34583333,  138.8415    ])"
      ]
     },
     "execution_count": 9,
     "metadata": {},
     "output_type": "execute_result"
    }
   ],
   "source": [
    "mean_images=[]\n",
    "\n",
    "for cat in range(len(dataByCat)):\n",
    "    mean_images.append(np.mean(dataByCat[cat], axis = 0))\n",
    "    \n",
    "printImage(mean_images[0])\n",
    "mean_images[0]\n"
   ]
  },
  {
   "cell_type": "code",
   "execution_count": 19,
   "metadata": {
    "collapsed": true
   },
   "outputs": [],
   "source": [
    "def get_error_from_pca(mean, components, data):\n",
    "    pca = PCA(n_components=20)\n",
    "    #pca.fit(data)\n",
    "    pca.mean_ = mean\n",
    "    pca.components_ = components\n",
    "    pca_20 = pca.transform(data)\n",
    "    im_first_20 = pca.inverse_transform(pca_20)\n",
    "    difference = im_first_20 - data\n",
    "    difference *= difference\n",
    "    error = sum(sum(difference)) / len(data)\n",
    "    return error\n",
    "    "
   ]
  },
  {
   "cell_type": "code",
   "execution_count": 20,
   "metadata": {
    "collapsed": true
   },
   "outputs": [],
   "source": [
    "class_info = []\n",
    "errors = []\n",
    "for cat in range(len(dataByCat)):\n",
    "    pca=PCA(n_components=20)\n",
    "    pca.fit(dataByCat[cat])\n",
    "    class_info.append((pca.mean_, pca.components_, dataByCat[cat]))\n",
    "    pca_20 = pca.transform(dataByCat[cat])\n",
    "    im_first_20 = pca.inverse_transform(pca_20)\n",
    "    difference = im_first_20 - dataByCat[cat]\n",
    "    difference *= difference\n",
    "    error = sum(sum(difference)) / len(dataByCat[cat])\n",
    "    errors.append(error)"
   ]
  },
  {
   "cell_type": "code",
   "execution_count": 21,
   "metadata": {},
   "outputs": [
    {
     "data": {
      "text/plain": [
       "<matplotlib.figure.Figure at 0x1a2055d6a0>"
      ]
     },
     "metadata": {},
     "output_type": "display_data"
    },
    {
     "data": {
      "image/png": "[encoded data removed]",
      "text/plain": [
       "<matplotlib.figure.Figure at 0x1a24f2c128>"
      ]
     },
     "metadata": {},
     "output_type": "display_data"
    }
   ],
   "source": [
    "plt.figure(figsize=(20,10))\n",
    "plt.bar(list(range(len(dataByCat))),errors,color='orange')\n",
    "plt.xticks(list(range(len(dataByCat))),label_names)\n",
    "plt.ylabel(\"Errors\")\n",
    "plt.xlabel(\"Categories\")\n",
    "plt.title(\"Error vs. Categories\")\n",
    "plt.show()"
   ]
  },
  {
   "cell_type": "code",
   "execution_count": 22,
   "metadata": {},
   "outputs": [
    {
     "data": {
      "text/plain": [
       "range"
      ]
     },
     "execution_count": 22,
     "metadata": {},
     "output_type": "execute_result"
    }
   ],
   "source": [
    "type(range(len(dataByCat)))"
   ]
  },
  {
   "cell_type": "code",
   "execution_count": 23,
   "metadata": {
    "collapsed": true
   },
   "outputs": [],
   "source": [
    "def create_error_distance_matrix(class_info):\n",
    "    dis_matrix = np.zeros((len(class_info), len(class_info)))\n",
    "    for class_num_A, (mean_A, comp_A, data_A) in enumerate(class_info):\n",
    "        for class_num_B, (mean_B, comp_B, data_B) in enumerate(class_info):\n",
    "            error_A_approx_B = get_error_from_pca(mean_A, comp_B, data_A)\n",
    "            error_B_approx_A = get_error_from_pca(mean_B, comp_A, data_B)\n",
    "            dis_matrix[class_num_A][class_num_B] = (error_B_approx_A + error_A_approx_B)*0.5\n",
    "    return dis_matrix"
   ]
  },
  {
   "cell_type": "code",
   "execution_count": 24,
   "metadata": {
    "collapsed": true
   },
   "outputs": [],
   "source": [
    "def create_euclidean_distance_matrix(mean_images):\n",
    "    dis_matrix = np.zeros((len(mean_images), len(mean_images)))\n",
    "    for label_x, image_x in enumerate(mean_images):\n",
    "        for label_y, image_y in enumerate(mean_images):\n",
    "            temp_image = image_x - image_y\n",
    "            dis_matrix[label_x][label_y] = np.linalg.norm(temp_image, ord=2)\n",
    "    return dis_matrix\n",
    "        "
   ]
  },
  {
   "cell_type": "code",
   "execution_count": 54,
   "metadata": {
    "collapsed": true
   },
   "outputs": [],
   "source": [
    "#distance matrix\n",
    "def manualMDS(distance_matrix, n_dimensions):\n",
    "    distance_matrix=distance_matrix@distance_matrix\n",
    "    A=np.eye(distance_matrix.shape[0],distance_matrix.shape[1])-(1/10)*np.ones(distance_matrix.shape)\n",
    "    W=(1/2)*A@(distance_matrix)@(np.matrix.transpose(A))\n",
    "    eigvals,eigvec=np.linalg.eigh(W)\n",
    "    #reverse eigvals and eigvectors since they were in ascending order (instead of descending)\n",
    "    eigvals=eigvals[::-1]\n",
    "    eigvec=eigvec[::,::-1]\n",
    "    approx_eigvals=eigvals[:n_dimensions]\n",
    "    approx_eigvec=eigvec[:,:n_dimensions]\n",
    "    ev12=[]\n",
    "    for ev in approx_eigvals:\n",
    "        ev12.append(math.sqrt(ev))\n",
    "    ev12=np.diag(ev12)\n",
    "    return np.transpose(ev12 @ np.transpose(approx_eigvec))"
   ]
  },
  {
   "cell_type": "code",
   "execution_count": 46,
   "metadata": {},
   "outputs": [
    {
     "data": {
      "text/plain": [
       "(10, 2)"
      ]
     },
     "execution_count": 46,
     "metadata": {},
     "output_type": "execute_result"
    }
   ],
   "source": [
    "similarities = create_euclidean_distance_matrix(mean_images)\n",
    "pos = manualMDS(similarities, 2)"
   ]
  },
  {
   "cell_type": "code",
   "execution_count": 36,
   "metadata": {},
   "outputs": [
    {
     "data": {
      "text/plain": [
       "(10, 2)"
      ]
     },
     "execution_count": 36,
     "metadata": {},
     "output_type": "execute_result"
    }
   ],
   "source": [
    "similarities = create_euclidean_distance_matrix(mean_images)\n",
    "mds = manifold.MDS(n_components = 2, dissimilarity = \"precomputed\")\n",
    "pos = mds.fit_transform(similarities)\n",
    "pos.shape"
   ]
  },
  {
   "cell_type": "code",
   "execution_count": 47,
   "metadata": {},
   "outputs": [
    {
     "data": {
      "image/png": "[encoded data removed]",
      "text/plain": [
       "<matplotlib.figure.Figure at 0x1a0af8f550>"
      ]
     },
     "metadata": {},
     "output_type": "display_data"
    }
   ],
   "source": [
    "plt.subplots_adjust(bottom = 0.1)\n",
    "plt.scatter(\n",
    "    pos[:, 0], pos[:, 1], marker='o')\n",
    "\n",
    "for label, x, y in zip(label_names, pos[:, 0], pos[:, 1]):\n",
    "    plt.annotate(\n",
    "        label,\n",
    "        xy=(x, y), xytext=(-20, 20),\n",
    "        textcoords='offset points', ha='right', va='bottom',\n",
    "        bbox=dict(boxstyle='round,pad=0.5', fc='yellow', alpha=0.5),\n",
    "        arrowprops=dict(arrowstyle = '->', connectionstyle='arc3,rad=0'))\n",
    "\n",
    "plt.show()\n",
    "#similarities = create_euclidean_distance_matrix(mean_images)\n",
    "#mds = manifold.MDS(n_components = 2, dissimilarity = \"precomputed\")\n",
    "#pos = mds.fit_transform(similarities)"
   ]
  },
  {
   "cell_type": "code",
   "execution_count": 50,
   "metadata": {
    "collapsed": true
   },
   "outputs": [],
   "source": [
    "dis_matrix = create_error_distance_matrix(class_info)\n",
    "mds = manifold.MDS(n_components = 2, dissimilarity = \"precomputed\")\n",
    "pos = mds.fit_transform(dis_matrix)"
   ]
  },
  {
   "cell_type": "code",
   "execution_count": 48,
   "metadata": {
    "collapsed": true
   },
   "outputs": [],
   "source": [
    "dis_matrix = create_error_distance_matrix(class_info)\n",
    "pos = manualMDS(dis_matrix,2)"
   ]
  },
  {
   "cell_type": "code",
   "execution_count": 53,
   "metadata": {},
   "outputs": [
    {
     "data": {
      "text/plain": [
       "array([ 0.,  0.,  0.,  0.,  0.,  0.,  0.,  0.,  0.,  0.])"
      ]
     },
     "execution_count": 53,
     "metadata": {},
     "output_type": "execute_result"
    }
   ],
   "source": [
    "np.diag(dis_matrix) - errors"
   ]
  },
  {
   "cell_type": "code",
   "execution_count": 52,
   "metadata": {},
   "outputs": [
    {
     "data": {
      "image/png": "[encoded data removed]",
      "text/plain": [
       "<matplotlib.figure.Figure at 0x1a18046eb8>"
      ]
     },
     "metadata": {},
     "output_type": "display_data"
    }
   ],
   "source": [
    "plt.subplots_adjust(bottom = 0.1)\n",
    "plt.scatter(\n",
    "    pos[:, 0], pos[:, 1], marker='o')\n",
    "\n",
    "for label, x, y in zip(label_names, pos[:, 0], pos[:, 1]):\n",
    "    plt.annotate(\n",
    "        label,\n",
    "        xy=(x, y), xytext=(-20, 20),\n",
    "        textcoords='offset points', ha='right', va='bottom',\n",
    "        bbox=dict(boxstyle='round,pad=0.5', fc='yellow', alpha=0.5),\n",
    "        arrowprops=dict(arrowstyle = '->', connectionstyle='arc3,rad=0'))\n",
    "\n",
    "plt.show()"
   ]
  },
  {
   "cell_type": "code",
   "execution_count": null,
   "metadata": {
    "collapsed": true
   },
   "outputs": [],
   "source": []
  }
 ],
 "metadata": {
  "kernelspec": {
   "display_name": "Python 3",
   "language": "python",
   "name": "python3"
  },
  "language_info": {
   "codemirror_mode": {
    "name": "ipython",
    "version": 3
   },
   "file_extension": ".py",
   "mimetype": "text/x-python",
   "name": "python",
   "nbconvert_exporter": "python",
   "pygments_lexer": "ipython3",
   "version": "3.6.2"
  }
 },
 "nbformat": 4,
 "nbformat_minor": 2
}
