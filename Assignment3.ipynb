{
 "cells": [
  {
   "cell_type": "code",
   "execution_count": 166,
   "metadata": {
    "collapsed": true
   },
   "outputs": [],
   "source": [
    "import numpy as np\n",
    "import numpy.linalg as la\n",
    "from sklearn.preprocessing import StandardScaler\n",
    "from sklearn.pipeline import Pipeline\n",
    "from sklearn.decomposition import PCA\n",
    "import matplotlib.pyplot as plt\n",
    "import math"
   ]
  },
  {
   "cell_type": "code",
   "execution_count": 3,
   "metadata": {
    "collapsed": true
   },
   "outputs": [],
   "source": [
    "def unpickle(file):\n",
    "    import pickle\n",
    "    with open(file, 'rb') as fo:\n",
    "        dict = pickle.load(fo, encoding='bytes')\n",
    "    return dict"
   ]
  },
  {
   "cell_type": "code",
   "execution_count": 41,
   "metadata": {
    "collapsed": true
   },
   "outputs": [],
   "source": [
    "data_batch=[]\n",
    "for i in range(1,6):\n",
    "    data_batch.append(unpickle('cifar-10-batches-py/data_batch_'+str(i)))\n",
    "data_batch.append(unpickle('cifar-10-batches-py/test_batch'))"
   ]
  },
  {
   "cell_type": "code",
   "execution_count": 70,
   "metadata": {},
   "outputs": [
    {
     "data": {
      "text/plain": [
       "[b'airplane',\n",
       " b'automobile',\n",
       " b'bird',\n",
       " b'cat',\n",
       " b'deer',\n",
       " b'dog',\n",
       " b'frog',\n",
       " b'horse',\n",
       " b'ship',\n",
       " b'truck']"
      ]
     },
     "execution_count": 70,
     "metadata": {},
     "output_type": "execute_result"
    }
   ],
   "source": [
    "label_names=unpickle('cifar-10-batches-py/batches.meta')[b'label_names']\n",
    "label_names"
   ]
  },
  {
   "cell_type": "code",
   "execution_count": 42,
   "metadata": {},
   "outputs": [
    {
     "data": {
      "text/plain": [
       "(60000, 3072)"
      ]
     },
     "execution_count": 42,
     "metadata": {},
     "output_type": "execute_result"
    }
   ],
   "source": [
    "data=[]\n",
    "for i in range(len(data_batch)):\n",
    "    data=np.append(data,data_batch[i][b'data'])\n",
    "data=np.reshape(data,(60000,3072))\n",
    "data.shape"
   ]
  },
  {
   "cell_type": "code",
   "execution_count": 43,
   "metadata": {},
   "outputs": [
    {
     "data": {
      "text/plain": [
       "60000"
      ]
     },
     "execution_count": 43,
     "metadata": {},
     "output_type": "execute_result"
    }
   ],
   "source": [
    "labels=np.array([],dtype=int)\n",
    "for i in range(len(data_batch)):\n",
    "    labels=np.append(labels,data_batch[i][b'labels'])\n",
    "labels=np.reshape(labels,60000)\n",
    "labels=np.array(labels,dtype=int)\n",
    "len(labels)"
   ]
  },
  {
   "cell_type": "code",
   "execution_count": 44,
   "metadata": {
    "collapsed": true
   },
   "outputs": [],
   "source": [
    "dataByCat=[[],[],[],[],[],[],[],[],[],[]] \n",
    "for ind,l in enumerate(labels):\n",
    "    dataByCat[l].append(data[ind])"
   ]
  },
  {
   "cell_type": "code",
   "execution_count": 105,
   "metadata": {},
   "outputs": [],
   "source": [
    "def printImage(data):\n",
    "    r=data[:1024]\n",
    "    g=data[1024:2048]\n",
    "    b=data[2048:]\n",
    "    new_r=np.reshape(r,(32,32))\n",
    "    new_g=np.reshape(g,(32,32))\n",
    "    new_b=np.reshape(b,(32,32))\n",
    "    im=np.dstack((new_r,new_g,new_b))\n",
    "    plt.imshow(im/255.0)\n",
    "    plt.show()"
   ]
  },
  {
   "cell_type": "code",
   "execution_count": 164,
   "metadata": {},
   "outputs": [],
   "source": [
    "mean_images=[]\n",
    "mean_var_ratio=[]\n",
    "pca_models=[]\n",
    "tr_data=[] \n",
    "app20data=[] \n",
    "for cat in range(len(dataByCat)):\n",
    "    pca=PCA(n_components=20)\n",
    "    pca.fit(dataByCat[cat])\n",
    "    td=pca.transform(dataByCat[cat])\n",
    "    tr_data.append(td)\n",
    "    pca_models.append(pca)\n",
    "    mean_images.append(pca.mean_)\n",
    "    mean_var_ratio.append(pca.explained_variance_ratio_)\n",
    "    app20data.append(pca.inverse_transform(td))"
   ]
  },
  {
   "cell_type": "code",
   "execution_count": 176,
   "metadata": {},
   "outputs": [
    {
     "data": {
      "text/plain": [
       "array([ 26.53235151,  15.79363089,  11.12915619,  10.36096793,\n",
       "         7.81651824,   6.62136771,   6.55492255,   6.07386258,\n",
       "         5.1792353 ,   4.71367939,   4.66717425,   4.57146043,\n",
       "         4.3230536 ,   4.18279235,   3.97587352,   3.81624486,\n",
       "         3.69972792,   3.49972406,   3.44358987,   3.28348569])"
      ]
     },
     "execution_count": 176,
     "metadata": {},
     "output_type": "execute_result"
    }
   ],
   "source": [
    "pca_models[0].singular_values_/6000"
   ]
  },
  {
   "cell_type": "code",
   "execution_count": 170,
   "metadata": {},
   "outputs": [],
   "source": [
    "err=[]\n",
    "for cat in range(len(dataByCat)):\n",
    "    error=0\n",
    "    for r in range(len(dataByCat[cat])):\n",
    "        error+=la.norm(app20data[cat][r]-dataByCat[cat][r])**2\n",
    "    err.append(error/len(dataByCat[cat]))"
   ]
  },
  {
   "cell_type": "code",
   "execution_count": 171,
   "metadata": {},
   "outputs": [
    {
     "data": {
      "text/plain": [
       "[1549.8880035681184,\n",
       " 1956.7221827825651,\n",
       " 1501.9188420257835,\n",
       " 1716.8868343909392,\n",
       " 1421.1510810849618,\n",
       " 1749.4237961769386,\n",
       " 1577.911162330716,\n",
       " 1816.1406166440559,\n",
       " 1502.7035120073087,\n",
       " 1971.6022619592284]"
      ]
     },
     "execution_count": 171,
     "metadata": {},
     "output_type": "execute_result"
    }
   ],
   "source": []
  },
  {
   "cell_type": "code",
   "execution_count": 77,
   "metadata": {},
   "outputs": [
    {
     "data": {
      "text/plain": [
       "1"
      ]
     },
     "execution_count": 77,
     "metadata": {},
     "output_type": "execute_result"
    }
   ],
   "source": []
  },
  {
   "cell_type": "code",
   "execution_count": null,
   "metadata": {
    "collapsed": true
   },
   "outputs": [],
   "source": []
  }
 ],
 "metadata": {
  "kernelspec": {
   "display_name": "Python 3",
   "language": "python",
   "name": "python3"
  },
  "language_info": {
   "codemirror_mode": {
    "name": "ipython",
    "version": 3
   },
   "file_extension": ".py",
   "mimetype": "text/x-python",
   "name": "python",
   "nbconvert_exporter": "python",
   "pygments_lexer": "ipython3",
   "version": "3.6.2"
  }
 },
 "nbformat": 4,
 "nbformat_minor": 2
}
