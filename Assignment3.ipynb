{
 "cells": [
  {
   "cell_type": "code",
   "execution_count": 26,
   "metadata": {
    "collapsed": true
   },
   "outputs": [],
   "source": [
    "import numpy as np\n",
    "from sklearn.decomposition import PCA\n",
    "import matplotlib.pyplot as plt"
   ]
  },
  {
   "cell_type": "code",
   "execution_count": 3,
   "metadata": {
    "collapsed": true
   },
   "outputs": [],
   "source": [
    "def unpickle(file):\n",
    "    import pickle\n",
    "    with open(file, 'rb') as fo:\n",
    "        dict = pickle.load(fo, encoding='bytes')\n",
    "    return dict"
   ]
  },
  {
   "cell_type": "code",
   "execution_count": 41,
   "metadata": {
    "collapsed": true
   },
   "outputs": [],
   "source": [
    "data_batch=[]\n",
    "for i in range(1,6):\n",
    "    data_batch.append(unpickle('cifar-10-batches-py/data_batch_'+str(i)))\n",
    "data_batch.append(unpickle('cifar-10-batches-py/test_batch'))"
   ]
  },
  {
   "cell_type": "code",
   "execution_count": 70,
   "metadata": {},
   "outputs": [
    {
     "data": {
      "text/plain": [
       "[b'airplane',\n",
       " b'automobile',\n",
       " b'bird',\n",
       " b'cat',\n",
       " b'deer',\n",
       " b'dog',\n",
       " b'frog',\n",
       " b'horse',\n",
       " b'ship',\n",
       " b'truck']"
      ]
     },
     "execution_count": 70,
     "metadata": {},
     "output_type": "execute_result"
    }
   ],
   "source": [
    "label_names=unpickle('cifar-10-batches-py/batches.meta')[b'label_names']\n",
    "label_names"
   ]
  },
  {
   "cell_type": "code",
   "execution_count": 42,
   "metadata": {},
   "outputs": [
    {
     "data": {
      "text/plain": [
       "(60000, 3072)"
      ]
     },
     "execution_count": 42,
     "metadata": {},
     "output_type": "execute_result"
    }
   ],
   "source": [
    "data=[]\n",
    "for i in range(len(data_batch)):\n",
    "    data=np.append(data,data_batch[i][b'data'])\n",
    "data=np.reshape(data,(60000,3072))\n",
    "data.shape"
   ]
  },
  {
   "cell_type": "code",
   "execution_count": 43,
   "metadata": {},
   "outputs": [
    {
     "data": {
      "text/plain": [
       "60000"
      ]
     },
     "execution_count": 43,
     "metadata": {},
     "output_type": "execute_result"
    }
   ],
   "source": [
    "labels=np.array([],dtype=int)\n",
    "for i in range(len(data_batch)):\n",
    "    labels=np.append(labels,data_batch[i][b'labels'])\n",
    "labels=np.reshape(labels,60000)\n",
    "labels=np.array(labels,dtype=int)\n",
    "len(labels)"
   ]
  },
  {
   "cell_type": "code",
   "execution_count": 44,
   "metadata": {
    "collapsed": true
   },
   "outputs": [],
   "source": [
    "dataByCat=[[],[],[],[],[],[],[],[],[],[]] \n",
    "for ind,l in enumerate(labels):\n",
    "    dataByCat[l].append(data[ind])"
   ]
  },
  {
   "cell_type": "code",
   "execution_count": 71,
   "metadata": {},
   "outputs": [],
   "source": [
    "def printImage(data):\n",
    "    r=data[:1024]\n",
    "    g=data[1024:2048]\n",
    "    b=data[2048:]\n",
    "    new_r=np.reshape(r,(32,32))\n",
    "    new_g=np.reshape(g,(32,32))\n",
    "    new_b=np.reshape(b,(32,32))\n",
    "    im=np.dstack((new_r,new_g,new_b))\n",
    "    print(im.shape)\n",
    "    plt.imshow(im)\n",
    "    plt.show()"
   ]
  },
  {
   "cell_type": "code",
   "execution_count": 72,
   "metadata": {},
   "outputs": [
    {
     "name": "stdout",
     "output_type": "stream",
     "text": [
      "(32, 32, 3)\n"
     ]
    },
    {
     "data": {
      "image/png": "[encoded data removed]",
      "text/plain": [
       "<matplotlib.figure.Figure at 0x1a09da2518>"
      ]
     },
     "metadata": {},
     "output_type": "display_data"
    }
   ],
   "source": [
    "printImage(data[0])"
   ]
  },
  {
   "cell_type": "code",
   "execution_count": 66,
   "metadata": {},
   "outputs": [],
   "source": [
    "mean_images=[]\n",
    "mean_var_ratio=[]\n",
    "tr_data=[[],[],[],[],[],[],[],[],[],[]] \n",
    "for cat in range(len(dataByCat)):\n",
    "    pca=PCA(n_components=20)\n",
    "    pca.fit(dataByCat[cat])\n",
    "    tr_data[cat]=np.append(tr_data[cat],pca.transform(dataByCat[cat]))\n",
    "    mean_images.append(pca.mean_)\n",
    "    mean_var_ratio.append(pca.explained_variance_ratio_)"
   ]
  },
  {
   "cell_type": "code",
   "execution_count": 65,
   "metadata": {},
   "outputs": [
    {
     "data": {
      "text/plain": [
       "array([ 0.3497066 ,  0.12391284,  0.06152857,  0.05332772,  0.03035142,\n",
       "        0.02177949,  0.02134457,  0.01832662,  0.0133255 ,  0.01103754,\n",
       "        0.01082082,  0.01038155,  0.00928397,  0.0086913 ,  0.0078526 ,\n",
       "        0.0072347 ,  0.00679935,  0.00608438,  0.00589063,  0.0053538 ])"
      ]
     },
     "execution_count": 65,
     "metadata": {},
     "output_type": "execute_result"
    }
   ],
   "source": [
    "mean_var_ratio[0]"
   ]
  }
 ],
 "metadata": {
  "kernelspec": {
   "display_name": "Python 3",
   "language": "python",
   "name": "python3"
  },
  "language_info": {
   "codemirror_mode": {
    "name": "ipython",
    "version": 3
   },
   "file_extension": ".py",
   "mimetype": "text/x-python",
   "name": "python",
   "nbconvert_exporter": "python",
   "pygments_lexer": "ipython3",
   "version": "3.6.2"
  }
 },
 "nbformat": 4,
 "nbformat_minor": 2
}
