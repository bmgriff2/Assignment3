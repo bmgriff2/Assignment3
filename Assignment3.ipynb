{
 "cells": [
  {
   "cell_type": "code",
   "execution_count": 34,
   "metadata": {
    "collapsed": true
   },
   "outputs": [],
   "source": [
    "import numpy as np\n",
    "from sklearn.decomposition import PCA"
   ]
  },
  {
   "cell_type": "code",
   "execution_count": 1,
   "metadata": {
    "collapsed": true
   },
   "outputs": [],
   "source": [
    "def unpickle(file):\n",
    "    import pickle\n",
    "    with open(file, 'rb') as fo:\n",
    "        dict = pickle.load(fo, encoding='bytes')\n",
    "    return dict"
   ]
  },
  {
   "cell_type": "code",
   "execution_count": 19,
   "metadata": {},
   "outputs": [],
   "source": [
    "data_batch=[]\n",
    "for i in range(1,6):\n",
    "    data_batch.append(unpickle('cifar-10-batches-py/data_batch_'+str(i)))\n",
    "data_batch.append(unpickle('cifar-10-batches-py/test_batch'))"
   ]
  },
  {
   "cell_type": "code",
   "execution_count": 29,
   "metadata": {},
   "outputs": [
    {
     "data": {
      "text/plain": [
       "(60000, 3072)"
      ]
     },
     "execution_count": 29,
     "metadata": {},
     "output_type": "execute_result"
    }
   ],
   "source": [
    "data=[]\n",
    "for i in range(len(data_batch)):\n",
    "    data=np.append(data,data_batch[i][b'data'])\n",
    "data=np.reshape(data,(60000,3072))\n",
    "data.shape"
   ]
  },
  {
   "cell_type": "code",
   "execution_count": 52,
   "metadata": {},
   "outputs": [
    {
     "data": {
      "text/plain": [
       "60000"
      ]
     },
     "execution_count": 52,
     "metadata": {},
     "output_type": "execute_result"
    }
   ],
   "source": [
    "labels=[]\n",
    "for i in range(len(data_batch)):\n",
    "    labels=np.append(labels,data_batch[i][b'labels'])\n",
    "labels=np.reshape(labels,60000)\n",
    "labels=np.array(labels,dtype=int)\n",
    "len(labels)"
   ]
  },
  {
   "cell_type": "code",
   "execution_count": 94,
   "metadata": {},
   "outputs": [],
   "source": [
    "dataByCat=[[],[],[],[],[],[],[],[],[],[]] \n",
    "for ind,l in enumerate(labels):\n",
    "    dataByCat[l].append(data[ind])"
   ]
  },
  {
   "cell_type": "code",
   "execution_count": 95,
   "metadata": {},
   "outputs": [
    {
     "name": "stdout",
     "output_type": "stream",
     "text": [
      "3072\n",
      "3072\n",
      "3072\n",
      "3072\n",
      "3072\n",
      "3072\n",
      "3072\n",
      "3072\n",
      "3072\n",
      "3072\n"
     ]
    }
   ],
   "source": [
    "for cat in range(len(dataByCat)):\n",
    "    pca=PCA(n_components=20)\n",
    "    pca.fit(dataByCat[cat])\n",
    "    print(len(pca.mean_))"
   ]
  }
 ],
 "metadata": {
  "kernelspec": {
   "display_name": "Python 3",
   "language": "python",
   "name": "python3"
  },
  "language_info": {
   "codemirror_mode": {
    "name": "ipython",
    "version": 3
   },
   "file_extension": ".py",
   "mimetype": "text/x-python",
   "name": "python",
   "nbconvert_exporter": "python",
   "pygments_lexer": "ipython3",
   "version": "3.6.2"
  }
 },
 "nbformat": 4,
 "nbformat_minor": 2
}
