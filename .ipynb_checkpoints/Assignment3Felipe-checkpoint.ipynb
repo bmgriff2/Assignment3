{
 "cells": [
  {
   "cell_type": "code",
   "execution_count": 3,
   "metadata": {
    "collapsed": true
   },
   "outputs": [],
   "source": [
    "import numpy as np\n",
    "from sklearn.decomposition import PCA\n",
    "import matplotlib.pyplot as plt\n",
    "from sklearn import manifold\n",
    "from sklearn.decomposition import PCA"
   ]
  },
  {
   "cell_type": "code",
   "execution_count": 5,
   "metadata": {
    "collapsed": true
   },
   "outputs": [],
   "source": [
    "def unpickle(file):\n",
    "    import pickle\n",
    "    with open(file, 'rb') as fo:\n",
    "        dict = pickle.load(fo, encoding='bytes')\n",
    "    return dict"
   ]
  },
  {
   "cell_type": "code",
   "execution_count": 7,
   "metadata": {
    "collapsed": true
   },
   "outputs": [],
   "source": [
    "data_batch=[]\n",
    "for i in range(1,6):\n",
    "    data_batch.append(unpickle('cifar-10-batches-py/data_batch_'+str(i)))\n",
    "data_batch.append(unpickle('cifar-10-batches-py/test_batch'))"
   ]
  },
  {
   "cell_type": "code",
   "execution_count": 9,
   "metadata": {},
   "outputs": [
    {
     "data": {
      "text/plain": [
       "[b'airplane',\n",
       " b'automobile',\n",
       " b'bird',\n",
       " b'cat',\n",
       " b'deer',\n",
       " b'dog',\n",
       " b'frog',\n",
       " b'horse',\n",
       " b'ship',\n",
       " b'truck']"
      ]
     },
     "execution_count": 9,
     "metadata": {},
     "output_type": "execute_result"
    }
   ],
   "source": [
    "label_names=unpickle('cifar-10-batches-py/batches.meta')[b'label_names']\n",
    "label_names"
   ]
  },
  {
   "cell_type": "code",
   "execution_count": 11,
   "metadata": {},
   "outputs": [
    {
     "data": {
      "text/plain": [
       "(60000, 3072)"
      ]
     },
     "execution_count": 11,
     "metadata": {},
     "output_type": "execute_result"
    }
   ],
   "source": [
    "data=[]\n",
    "for i in range(len(data_batch)):\n",
    "    data=np.append(data,data_batch[i][b'data'])\n",
    "data=np.reshape(data,(60000,3072))\n",
    "data.shape"
   ]
  },
  {
   "cell_type": "code",
   "execution_count": 13,
   "metadata": {},
   "outputs": [
    {
     "data": {
      "text/plain": [
       "60000"
      ]
     },
     "execution_count": 13,
     "metadata": {},
     "output_type": "execute_result"
    }
   ],
   "source": [
    "labels=np.array([],dtype=int)\n",
    "for i in range(len(data_batch)):\n",
    "    labels=np.append(labels,data_batch[i][b'labels'])\n",
    "labels=np.reshape(labels,60000)\n",
    "labels=np.array(labels,dtype=int)\n",
    "len(labels)"
   ]
  },
  {
   "cell_type": "code",
   "execution_count": 15,
   "metadata": {
    "collapsed": true
   },
   "outputs": [],
   "source": [
    "dataByCat=[[],[],[],[],[],[],[],[],[],[]] \n",
    "for ind,l in enumerate(labels):\n",
    "    dataByCat[l].append(data[ind])"
   ]
  },
  {
   "cell_type": "code",
   "execution_count": 17,
   "metadata": {
    "collapsed": true
   },
   "outputs": [],
   "source": [
    "def printImage(data):\n",
    "    r=data[:1024]\n",
    "    g=data[1024:2048]\n",
    "    b=data[2048:]\n",
    "    new_r=np.reshape(r,(32,32))\n",
    "    new_g=np.reshape(g,(32,32))\n",
    "    new_b=np.reshape(b,(32,32))\n",
    "    im=np.dstack((new_r,new_g,new_b))\n",
    "    im /= 255\n",
    "    plt.imshow(im)\n",
    "    plt.show()"
   ]
  },
  {
   "cell_type": "code",
   "execution_count": 19,
   "metadata": {
    "collapsed": true
   },
   "outputs": [],
   "source": [
    "mean_images=[]\n",
    "\n",
    "for cat in range(len(dataByCat)):\n",
    "    mean_images.append(np.mean(dataByCat[cat], axis = 0))"
   ]
  },
  {
   "cell_type": "code",
   "execution_count": 21,
   "metadata": {},
   "outputs": [
    {
     "name": "stdout",
     "output_type": "stream",
     "text": [
      "2620582.33545\n",
      "3950703.11951\n",
      "2447722.06598\n",
      "3116508.63169\n",
      "2180401.2808\n",
      "3231121.5642\n",
      "2630254.60218\n",
      "3441109.36945\n",
      "2440659.64713\n",
      "4021106.32877\n"
     ]
    }
   ],
   "source": [
    "for cat in range(len(dataByCat)):\n",
    "    pca=PCA(n_components=20)\n",
    "    pca_20 = pca.fit_transform(dataByCat[cat])\n",
    "    im_first_20 = pca.inverse_transform(pca_20)\n",
    "    difference = im_first_20 - dataByCat[cat]\n",
    "    difference *= difference\n",
    "    error = sum(sum(difference)) / len(dataByCat[cat])\n",
    "    print(error)"
   ]
  },
  {
   "cell_type": "code",
   "execution_count": 23,
   "metadata": {
    "collapsed": true
   },
   "outputs": [],
   "source": [
    "def create_euclidean_distance_matrix(mean_images):\n",
    "    dis_matrix = np.zeros((len(mean_images), len(mean_images)))\n",
    "    for label_x, image_x in enumerate(mean_images):\n",
    "        for label_y, image_y in enumerate(mean_images):\n",
    "            temp_image = image_x - image_y\n",
    "            dis_matrix[label_x][label_y] = np.linalg.norm(temp_image, ord=2)\n",
    "    return dis_matrix\n",
    "        "
   ]
  },
  {
   "cell_type": "code",
   "execution_count": 25,
   "metadata": {},
   "outputs": [],
   "source": [
    "similarities = create_euclidean_distance_matrix(mean_images)\n",
    "mds = manifold.MDS(n_components = 2, dissimilarity = \"precomputed\")\n",
    "pos = mds.fit_transform(similarities)"
   ]
  },
  {
   "cell_type": "code",
   "execution_count": 26,
   "metadata": {},
   "outputs": [
    {
     "data": {
      "image/png": "[encoded data removed]",
      "text/plain": [
       "<matplotlib.figure.Figure at 0x10314a2e8>"
      ]
     },
     "metadata": {},
     "output_type": "display_data"
    }
   ],
   "source": [
    "plt.subplots_adjust(bottom = 0.1)\n",
    "plt.scatter(\n",
    "    pos[:, 0], pos[:, 1], marker='o')\n",
    "\n",
    "for label, x, y in zip(label_names, pos[:, 0], pos[:, 1]):\n",
    "    plt.annotate(\n",
    "        label,\n",
    "        xy=(x, y), xytext=(-20, 20),\n",
    "        textcoords='offset points', ha='right', va='bottom',\n",
    "        bbox=dict(boxstyle='round,pad=0.5', fc='yellow', alpha=0.5),\n",
    "        arrowprops=dict(arrowstyle = '->', connectionstyle='arc3,rad=0'))\n",
    "\n",
    "plt.show()"
   ]
  }
 ],
 "metadata": {
  "kernelspec": {
   "display_name": "Python 3",
   "language": "python",
   "name": "python3"
  },
  "language_info": {
   "codemirror_mode": {
    "name": "ipython",
    "version": 3
   },
   "file_extension": ".py",
   "mimetype": "text/x-python",
   "name": "python",
   "nbconvert_exporter": "python",
   "pygments_lexer": "ipython3",
   "version": "3.6.3"
  }
 },
 "nbformat": 4,
 "nbformat_minor": 2
}
